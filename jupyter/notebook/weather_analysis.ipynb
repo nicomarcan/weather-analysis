{
 "cells": [
  {
   "cell_type": "markdown",
   "metadata": {},
   "source": [
    "# Análisis clima provincias argentinas"
   ]
  },
  {
   "cell_type": "markdown",
   "metadata": {},
   "source": [
    "## Fetch base de datos psql"
   ]
  },
  {
   "cell_type": "code",
   "execution_count": 272,
   "metadata": {},
   "outputs": [],
   "source": [
    "import findspark\n",
    "\n",
    "findspark.add_jars('/app/postgresql-42.1.4.jar')\n",
    "findspark.init()"
   ]
  },
  {
   "cell_type": "code",
   "execution_count": 273,
   "metadata": {},
   "outputs": [],
   "source": [
    "from pyspark.sql import SparkSession\n",
    "spark = (\n",
    "    SparkSession.builder\n",
    "    .appName(\"pyspark-postgres\")\n",
    "    .config(\"spark.driver.memory\", \"512m\")\n",
    "    .config(\"spark.driver.cores\", \"1\")\n",
    "    .config(\"spark.executor.memory\", \"512m\")\n",
    "    .config(\"spark.executor.cores\", \"1\")\n",
    "    .config(\"spark.sql.shuffle.partitions\", \"2\")\n",
    "    .getOrCreate()\n",
    ")"
   ]
  },
  {
   "cell_type": "code",
   "execution_count": 274,
   "metadata": {},
   "outputs": [],
   "source": [
    "df = spark.read \\\n",
    "    .format(\"jdbc\") \\\n",
    "    .option(\"url\", \"jdbc:postgresql://postgres/weather\") \\\n",
    "    .option(\"dbtable\", \"weather.weather_daily\") \\\n",
    "    .option(\"user\", \"weather\") \\\n",
    "    .option(\"password\", \"weather\") \\\n",
    "    .option(\"driver\", \"org.postgresql.Driver\") \\\n",
    "    .load()"
   ]
  },
  {
   "cell_type": "code",
   "execution_count": 275,
   "metadata": {},
   "outputs": [
    {
     "name": "stdout",
     "output_type": "stream",
     "text": [
      "root\n",
      " |-- dt: long (nullable = true)\n",
      " |-- province: string (nullable = true)\n",
      " |-- temp_max: double (nullable = true)\n",
      " |-- temp_min: double (nullable = true)\n",
      " |-- weather_main: string (nullable = true)\n",
      " |-- weather_desc: string (nullable = true)\n",
      "\n"
     ]
    }
   ],
   "source": [
    "df.printSchema()"
   ]
  },
  {
   "cell_type": "code",
   "execution_count": 276,
   "metadata": {},
   "outputs": [
    {
     "name": "stdout",
     "output_type": "stream",
     "text": [
      "+----------+------------+--------+--------+------------+-------------+\n",
      "|        dt|    province|temp_max|temp_min|weather_main| weather_desc|\n",
      "+----------+------------+--------+--------+------------+-------------+\n",
      "|1638129600|BUENOS_AIRES|    18.0|    18.0|        Rain|moderate rain|\n",
      "|1638133200|BUENOS_AIRES|   17.09|   17.09|        Rain|moderate rain|\n",
      "|1638136800|BUENOS_AIRES|   17.33|   17.33|        Rain|   light rain|\n",
      "|1638140400|BUENOS_AIRES|   17.08|   17.08|        Rain|moderate rain|\n",
      "|1638144000|BUENOS_AIRES|   16.61|   16.61|        Rain|moderate rain|\n",
      "|1638147600|BUENOS_AIRES|   17.97|   17.97|        Rain|moderate rain|\n",
      "|1638151200|BUENOS_AIRES|    18.0|    18.0|        Rain|moderate rain|\n",
      "|1638154800|BUENOS_AIRES|   18.06|   18.06|        Rain|   light rain|\n",
      "|1638158400|BUENOS_AIRES|   16.92|   16.92|        Rain|   light rain|\n",
      "|1638162000|BUENOS_AIRES|   17.19|   17.19|        Rain|   light rain|\n",
      "+----------+------------+--------+--------+------------+-------------+\n",
      "only showing top 10 rows\n",
      "\n"
     ]
    }
   ],
   "source": [
    "df.show(10)"
   ]
  },
  {
   "cell_type": "markdown",
   "metadata": {},
   "source": [
    "## Ingeniería de atributos "
   ]
  },
  {
   "cell_type": "code",
   "execution_count": 277,
   "metadata": {},
   "outputs": [],
   "source": [
    "from datetime import datetime\n",
    "from pyspark.sql.functions import udf\n",
    "\n",
    "def to_datetime(s):\n",
    "    return datetime.fromtimestamp(s).strftime('%Y-%m-%d %h')\n",
    "\n",
    "def get_year(s):\n",
    "    return int(datetime.fromtimestamp(s).strftime(\"%Y\"))\n",
    "\n",
    "def get_month(s):\n",
    "    return int(datetime.fromtimestamp(s).strftime(\"%m\"))\n",
    "\n",
    "def get_day(s):\n",
    "    return int(datetime.fromtimestamp(s).strftime(\"%d\"))\n",
    "\n",
    "def get_hour(s):\n",
    "    return int(datetime.fromtimestamp(s).strftime(\"%H\"))\n",
    "\n",
    "def get_season(s):\n",
    "    doy = datetime.fromtimestamp(s).timetuple().tm_yday\n",
    "\n",
    "    fall = range(80, 172)\n",
    "    winter = range(172, 264)\n",
    "    spring = range(264, 355)\n",
    "    # summer = everything else\n",
    "\n",
    "    if doy in spring:\n",
    "      return 'spring'\n",
    "    elif doy in winter:\n",
    "      return 'winter'\n",
    "    elif doy in fall:\n",
    "      return 'fall'\n",
    "    else:\n",
    "      return 'summer'\n",
    "    \n",
    "to_datetime_udf = udf(to_datetime)\n",
    "get_year_udf = udf(get_year)\n",
    "get_month_udf = udf(get_month)\n",
    "get_day_udf = udf(get_day)\n",
    "get_hour_udf = udf(get_hour)\n",
    "get_season_udf = udf(get_season)\n",
    "\n",
    "from pyspark.sql.types import IntegerType\n",
    "\n",
    "df = df.withColumn(\"datetime\", to_datetime_udf(df.dt))\n",
    "df = df.withColumn(\"year\", get_year_udf(df.dt).cast(IntegerType()))\n",
    "df = df.withColumn(\"month\", get_month_udf(df.dt).cast(IntegerType()))\n",
    "df = df.withColumn(\"day\", get_day_udf(df.dt).cast(IntegerType()))\n",
    "df = df.withColumn(\"hour\", get_hour_udf(df.dt).cast(IntegerType()))\n",
    "df = df.withColumn(\"season\", get_season_udf(df.dt))"
   ]
  },
  {
   "cell_type": "code",
   "execution_count": 278,
   "metadata": {},
   "outputs": [
    {
     "name": "stdout",
     "output_type": "stream",
     "text": [
      "+----------+------------+--------+--------+------------+-------------+--------------+----+-----+---+----+------+\n",
      "|        dt|    province|temp_max|temp_min|weather_main| weather_desc|      datetime|year|month|day|hour|season|\n",
      "+----------+------------+--------+--------+------------+-------------+--------------+----+-----+---+----+------+\n",
      "|1638129600|BUENOS_AIRES|    18.0|    18.0|        Rain|moderate rain|2021-11-28 Nov|2021|   11| 28|  20|spring|\n",
      "|1638133200|BUENOS_AIRES|   17.09|   17.09|        Rain|moderate rain|2021-11-28 Nov|2021|   11| 28|  21|spring|\n",
      "|1638136800|BUENOS_AIRES|   17.33|   17.33|        Rain|   light rain|2021-11-28 Nov|2021|   11| 28|  22|spring|\n",
      "|1638140400|BUENOS_AIRES|   17.08|   17.08|        Rain|moderate rain|2021-11-28 Nov|2021|   11| 28|  23|spring|\n",
      "|1638144000|BUENOS_AIRES|   16.61|   16.61|        Rain|moderate rain|2021-11-29 Nov|2021|   11| 29|   0|spring|\n",
      "|1638147600|BUENOS_AIRES|   17.97|   17.97|        Rain|moderate rain|2021-11-29 Nov|2021|   11| 29|   1|spring|\n",
      "|1638151200|BUENOS_AIRES|    18.0|    18.0|        Rain|moderate rain|2021-11-29 Nov|2021|   11| 29|   2|spring|\n",
      "|1638154800|BUENOS_AIRES|   18.06|   18.06|        Rain|   light rain|2021-11-29 Nov|2021|   11| 29|   3|spring|\n",
      "|1638158400|BUENOS_AIRES|   16.92|   16.92|        Rain|   light rain|2021-11-29 Nov|2021|   11| 29|   4|spring|\n",
      "|1638162000|BUENOS_AIRES|   17.19|   17.19|        Rain|   light rain|2021-11-29 Nov|2021|   11| 29|   5|spring|\n",
      "+----------+------------+--------+--------+------------+-------------+--------------+----+-----+---+----+------+\n",
      "only showing top 10 rows\n",
      "\n"
     ]
    }
   ],
   "source": [
    "df.show(10)"
   ]
  },
  {
   "cell_type": "code",
   "execution_count": 279,
   "metadata": {},
   "outputs": [],
   "source": [
    "from pyspark.sql.functions import desc\n",
    "def print_province_weathers(record):\n",
    "    print(record[0])\n",
    "    df.filter(df.province == record[0]).groupBy('weather_main').count().orderBy(desc('count')).show(10)"
   ]
  },
  {
   "cell_type": "code",
   "execution_count": 280,
   "metadata": {},
   "outputs": [
    {
     "name": "stdout",
     "output_type": "stream",
     "text": [
      "BUENOS_AIRES\n",
      "+------------+-----+\n",
      "|weather_main|count|\n",
      "+------------+-----+\n",
      "|      Clouds|   76|\n",
      "|       Clear|   61|\n",
      "|        Rain|   31|\n",
      "+------------+-----+\n",
      "\n",
      "CORDOBA\n",
      "+------------+-----+\n",
      "|weather_main|count|\n",
      "+------------+-----+\n",
      "|      Clouds|   96|\n",
      "|       Clear|   68|\n",
      "|        Rain|    3|\n",
      "|Thunderstorm|    1|\n",
      "+------------+-----+\n",
      "\n",
      "JUJUY\n",
      "+------------+-----+\n",
      "|weather_main|count|\n",
      "+------------+-----+\n",
      "|      Clouds|  132|\n",
      "|       Clear|   30|\n",
      "|        Rain|    6|\n",
      "+------------+-----+\n",
      "\n",
      "SANTA_FE\n",
      "+------------+-----+\n",
      "|weather_main|count|\n",
      "+------------+-----+\n",
      "|       Clear|   83|\n",
      "|      Clouds|   73|\n",
      "|        Rain|   12|\n",
      "+------------+-----+\n",
      "\n",
      "TIERRA_DEL_FUEGO\n",
      "+------------+-----+\n",
      "|weather_main|count|\n",
      "+------------+-----+\n",
      "|      Clouds|  112|\n",
      "|        Rain|   44|\n",
      "|       Clear|   10|\n",
      "|     Drizzle|    2|\n",
      "+------------+-----+\n",
      "\n"
     ]
    }
   ],
   "source": [
    "for row in df.select(\"province\").distinct().rdd.toLocalIterator():\n",
    "    print_province_weathers(row)\n"
   ]
  },
  {
   "cell_type": "markdown",
   "metadata": {},
   "source": [
    "## Encoding de variables categóricas en numéricas\n",
    "No se usa season dado que por el plan de la api de clima sólo se pudieron tener datos de noviembre/diciembre, por lo que siempre va a ser primavera la estación"
   ]
  },
  {
   "cell_type": "code",
   "execution_count": 281,
   "metadata": {},
   "outputs": [
    {
     "name": "stdout",
     "output_type": "stream",
     "text": [
      "root\n",
      " |-- dt: long (nullable = true)\n",
      " |-- province: string (nullable = true)\n",
      " |-- temp_max: double (nullable = true)\n",
      " |-- temp_min: double (nullable = true)\n",
      " |-- weather_main: string (nullable = true)\n",
      " |-- weather_desc: string (nullable = true)\n",
      " |-- datetime: string (nullable = true)\n",
      " |-- year: integer (nullable = true)\n",
      " |-- month: integer (nullable = true)\n",
      " |-- day: integer (nullable = true)\n",
      " |-- hour: integer (nullable = true)\n",
      " |-- season: string (nullable = true)\n",
      "\n",
      "+------------+--------+--------+----+-----+---+----+----------------+----------------+--------------------+\n",
      "|province_num|temp_max|temp_min|year|month|day|hour|weather_main_vec|weather_desc_vec|            features|\n",
      "+------------+--------+--------+----+-----+---+----+----------------+----------------+--------------------+\n",
      "|         3.0|    18.0|    18.0|2021|   11| 28|  20|   (4,[2],[1.0])|   (9,[6],[1.0])|(20,[0,1,2,3,4,5,...|\n",
      "|         3.0|   17.09|   17.09|2021|   11| 28|  21|   (4,[2],[1.0])|   (9,[6],[1.0])|(20,[0,1,2,3,4,5,...|\n",
      "|         3.0|   17.33|   17.33|2021|   11| 28|  22|   (4,[2],[1.0])|   (9,[4],[1.0])|(20,[0,1,2,3,4,5,...|\n",
      "|         3.0|   17.08|   17.08|2021|   11| 28|  23|   (4,[2],[1.0])|   (9,[6],[1.0])|(20,[0,1,2,3,4,5,...|\n",
      "|         3.0|   16.61|   16.61|2021|   11| 29|   0|   (4,[2],[1.0])|   (9,[6],[1.0])|(20,[0,1,2,3,4,5,...|\n",
      "|         3.0|   17.97|   17.97|2021|   11| 29|   1|   (4,[2],[1.0])|   (9,[6],[1.0])|(20,[0,1,2,3,4,5,...|\n",
      "|         3.0|    18.0|    18.0|2021|   11| 29|   2|   (4,[2],[1.0])|   (9,[6],[1.0])|(20,[0,1,2,3,4,5,...|\n",
      "|         3.0|   18.06|   18.06|2021|   11| 29|   3|   (4,[2],[1.0])|   (9,[4],[1.0])|(20,[0,1,2,3,4,5,...|\n",
      "|         3.0|   16.92|   16.92|2021|   11| 29|   4|   (4,[2],[1.0])|   (9,[4],[1.0])|(20,[0,1,2,3,4,5,...|\n",
      "|         3.0|   17.19|   17.19|2021|   11| 29|   5|   (4,[2],[1.0])|   (9,[4],[1.0])|(20,[0,1,2,3,4,5,...|\n",
      "+------------+--------+--------+----+-----+---+----+----------------+----------------+--------------------+\n",
      "only showing top 10 rows\n",
      "\n"
     ]
    }
   ],
   "source": [
    "from pyspark.ml.feature import StringIndexer\n",
    "df.printSchema()\n",
    "cat_cols = [ 'weather_main', 'weather_desc', 'province']\n",
    "for cat in cat_cols:\n",
    "    cat_suff = f'{cat}_num'\n",
    "    if cat_suff not in df.columns:\n",
    "        indexer = StringIndexer(inputCol=cat, outputCol=cat_suff).fit(df)\n",
    "        df = indexer.transform(df)\n",
    "\n",
    "# Hacer OneHotEnconding\n",
    "from pyspark.ml.feature import OneHotEncoderEstimator\n",
    "\n",
    "inputCols=[ 'weather_main_num', 'weather_desc_num']\n",
    "outputCols=['weather_main_vec', 'weather_desc_vec']\n",
    "encoder = OneHotEncoderEstimator(inputCols = inputCols,outputCols = outputCols )\n",
    "ohem = encoder.fit(df)\n",
    "df = ohem.transform(df)\n",
    "\n",
    "# Armar columna de features\n",
    "df = df.select('province_num','temp_max', 'temp_min' ,'year', 'month' , 'day', 'hour', 'weather_main_vec', 'weather_desc_vec')\n",
    "from pyspark.ml.feature import VectorAssembler\n",
    "\n",
    "assembler = VectorAssembler(inputCols=[c for c in df.columns if c != 'province'], outputCol='features')\n",
    "assembler.transform(df).show(10)\n"
   ]
  },
  {
   "cell_type": "code",
   "execution_count": 282,
   "metadata": {},
   "outputs": [],
   "source": [
    "def _get_typed_cols(df, col_type='cat'):\n",
    "    assert col_type in ('cat', 'num')\n",
    "    dtypes = ('int', 'double') if col_type == 'num' else ('string')\n",
    "    typed_cols = [c for c,dtype in df.dtypes if dtype.startswith(dtypes) \n",
    "                  and c not in PROTECTED_COLS]\n",
    "    return typed_cols"
   ]
  },
  {
   "cell_type": "code",
   "execution_count": 283,
   "metadata": {},
   "outputs": [],
   "source": [
    "PROTECTED_COLS = ['province', 'province_num']"
   ]
  },
  {
   "cell_type": "code",
   "execution_count": 284,
   "metadata": {},
   "outputs": [
    {
     "data": {
      "text/plain": [
       "(['province_num',\n",
       "  'temp_max',\n",
       "  'temp_min',\n",
       "  'year',\n",
       "  'month',\n",
       "  'day',\n",
       "  'hour',\n",
       "  'weather_main_vec',\n",
       "  'weather_desc_vec'],\n",
       " [],\n",
       " ['temp_max', 'temp_min', 'year', 'month', 'day', 'hour'])"
      ]
     },
     "execution_count": 284,
     "metadata": {},
     "output_type": "execute_result"
    }
   ],
   "source": [
    "num_cols = _get_typed_cols(df, col_type='num')\n",
    "cat_cols = _get_typed_cols(df, col_type='cat')\n",
    "df.columns, cat_cols, num_cols"
   ]
  },
  {
   "cell_type": "code",
   "execution_count": 285,
   "metadata": {},
   "outputs": [],
   "source": [
    "from pyspark.ml.feature import StringIndexer\n",
    "\n",
    "def _encode_categorical(df):\n",
    "    cat_cols = _get_typed_cols(df, col_type='cat')\n",
    "    print(f\"Categorical columns:\\n {cat_cols}\")\n",
    "    encoded_cols = []\n",
    "    for cat in cat_cols:\n",
    "        cat_suff = f'{cat}_num'\n",
    "        encoded_cols.append(cat_suff)\n",
    "        if cat_suff not in df.columns:\n",
    "            indexer = StringIndexer(inputCol=cat, outputCol=cat_suff).fit(df)\n",
    "            df = indexer.transform(df)\n",
    "    return df, encoded_cols"
   ]
  },
  {
   "cell_type": "code",
   "execution_count": 286,
   "metadata": {},
   "outputs": [
    {
     "name": "stdout",
     "output_type": "stream",
     "text": [
      "Categorical columns:\n",
      " []\n",
      "+------------+--------+--------+----+-----+---+----+----------------+----------------+\n",
      "|province_num|temp_max|temp_min|year|month|day|hour|weather_main_vec|weather_desc_vec|\n",
      "+------------+--------+--------+----+-----+---+----+----------------+----------------+\n",
      "|         3.0|    18.0|    18.0|2021|   11| 28|  20|   (4,[2],[1.0])|   (9,[6],[1.0])|\n",
      "|         3.0|   17.09|   17.09|2021|   11| 28|  21|   (4,[2],[1.0])|   (9,[6],[1.0])|\n",
      "|         3.0|   17.33|   17.33|2021|   11| 28|  22|   (4,[2],[1.0])|   (9,[4],[1.0])|\n",
      "|         3.0|   17.08|   17.08|2021|   11| 28|  23|   (4,[2],[1.0])|   (9,[6],[1.0])|\n",
      "|         3.0|   16.61|   16.61|2021|   11| 29|   0|   (4,[2],[1.0])|   (9,[6],[1.0])|\n",
      "|         3.0|   17.97|   17.97|2021|   11| 29|   1|   (4,[2],[1.0])|   (9,[6],[1.0])|\n",
      "|         3.0|    18.0|    18.0|2021|   11| 29|   2|   (4,[2],[1.0])|   (9,[6],[1.0])|\n",
      "|         3.0|   18.06|   18.06|2021|   11| 29|   3|   (4,[2],[1.0])|   (9,[4],[1.0])|\n",
      "|         3.0|   16.92|   16.92|2021|   11| 29|   4|   (4,[2],[1.0])|   (9,[4],[1.0])|\n",
      "|         3.0|   17.19|   17.19|2021|   11| 29|   5|   (4,[2],[1.0])|   (9,[4],[1.0])|\n",
      "|         3.0|   17.26|   17.26|2021|   11| 29|   6|   (4,[0],[1.0])|   (9,[1],[1.0])|\n",
      "|         3.0|   17.11|   17.11|2021|   11| 29|   7|   (4,[0],[1.0])|   (9,[1],[1.0])|\n",
      "|         3.0|   16.86|   16.86|2021|   11| 29|   8|   (4,[0],[1.0])|   (9,[1],[1.0])|\n",
      "|         3.0|    18.0|    18.0|2021|   11| 29|   9|   (4,[0],[1.0])|   (9,[2],[1.0])|\n",
      "|         3.0|   16.53|   16.53|2021|   11| 29|  10|   (4,[0],[1.0])|   (9,[1],[1.0])|\n",
      "|         3.0|   17.26|   17.26|2021|   11| 29|  11|   (4,[0],[1.0])|   (9,[1],[1.0])|\n",
      "|         3.0|   18.57|   18.57|2021|   11| 29|  12|   (4,[0],[1.0])|   (9,[1],[1.0])|\n",
      "|         3.0|   19.35|   19.35|2021|   11| 29|  13|   (4,[0],[1.0])|   (9,[1],[1.0])|\n",
      "|         3.0|   20.38|   20.38|2021|   11| 29|  14|   (4,[0],[1.0])|   (9,[1],[1.0])|\n",
      "|         3.0|   20.71|   20.71|2021|   11| 29|  15|   (4,[0],[1.0])|   (9,[1],[1.0])|\n",
      "+------------+--------+--------+----+-----+---+----+----------------+----------------+\n",
      "only showing top 20 rows\n",
      "\n"
     ]
    }
   ],
   "source": [
    "df, encoded_cols = _encode_categorical(df)\n",
    "df.show()"
   ]
  },
  {
   "cell_type": "code",
   "execution_count": 287,
   "metadata": {},
   "outputs": [
    {
     "data": {
      "text/plain": [
       "['temp_max', 'temp_min', 'year', 'month', 'day', 'hour']"
      ]
     },
     "execution_count": 287,
     "metadata": {},
     "output_type": "execute_result"
    }
   ],
   "source": [
    "feature_cols = num_cols + encoded_cols\n",
    "feature_cols"
   ]
  },
  {
   "cell_type": "code",
   "execution_count": 288,
   "metadata": {},
   "outputs": [
    {
     "name": "stdout",
     "output_type": "stream",
     "text": [
      "+------------+--------+--------+----+-----+---+----+----------------+----------------+\n",
      "|province_num|temp_max|temp_min|year|month|day|hour|weather_main_vec|weather_desc_vec|\n",
      "+------------+--------+--------+----+-----+---+----+----------------+----------------+\n",
      "|         3.0|    18.0|    18.0|2021|   11| 28|  20|   (4,[2],[1.0])|   (9,[6],[1.0])|\n",
      "|         3.0|   17.09|   17.09|2021|   11| 28|  21|   (4,[2],[1.0])|   (9,[6],[1.0])|\n",
      "|         3.0|   17.33|   17.33|2021|   11| 28|  22|   (4,[2],[1.0])|   (9,[4],[1.0])|\n",
      "|         3.0|   17.08|   17.08|2021|   11| 28|  23|   (4,[2],[1.0])|   (9,[6],[1.0])|\n",
      "|         3.0|   16.61|   16.61|2021|   11| 29|   0|   (4,[2],[1.0])|   (9,[6],[1.0])|\n",
      "|         3.0|   17.97|   17.97|2021|   11| 29|   1|   (4,[2],[1.0])|   (9,[6],[1.0])|\n",
      "|         3.0|    18.0|    18.0|2021|   11| 29|   2|   (4,[2],[1.0])|   (9,[6],[1.0])|\n",
      "|         3.0|   18.06|   18.06|2021|   11| 29|   3|   (4,[2],[1.0])|   (9,[4],[1.0])|\n",
      "|         3.0|   16.92|   16.92|2021|   11| 29|   4|   (4,[2],[1.0])|   (9,[4],[1.0])|\n",
      "|         3.0|   17.19|   17.19|2021|   11| 29|   5|   (4,[2],[1.0])|   (9,[4],[1.0])|\n",
      "|         3.0|   17.26|   17.26|2021|   11| 29|   6|   (4,[0],[1.0])|   (9,[1],[1.0])|\n",
      "|         3.0|   17.11|   17.11|2021|   11| 29|   7|   (4,[0],[1.0])|   (9,[1],[1.0])|\n",
      "|         3.0|   16.86|   16.86|2021|   11| 29|   8|   (4,[0],[1.0])|   (9,[1],[1.0])|\n",
      "|         3.0|    18.0|    18.0|2021|   11| 29|   9|   (4,[0],[1.0])|   (9,[2],[1.0])|\n",
      "|         3.0|   16.53|   16.53|2021|   11| 29|  10|   (4,[0],[1.0])|   (9,[1],[1.0])|\n",
      "|         3.0|   17.26|   17.26|2021|   11| 29|  11|   (4,[0],[1.0])|   (9,[1],[1.0])|\n",
      "|         3.0|   18.57|   18.57|2021|   11| 29|  12|   (4,[0],[1.0])|   (9,[1],[1.0])|\n",
      "|         3.0|   19.35|   19.35|2021|   11| 29|  13|   (4,[0],[1.0])|   (9,[1],[1.0])|\n",
      "|         3.0|   20.38|   20.38|2021|   11| 29|  14|   (4,[0],[1.0])|   (9,[1],[1.0])|\n",
      "|         3.0|   20.71|   20.71|2021|   11| 29|  15|   (4,[0],[1.0])|   (9,[1],[1.0])|\n",
      "+------------+--------+--------+----+-----+---+----+----------------+----------------+\n",
      "only showing top 20 rows\n",
      "\n"
     ]
    }
   ],
   "source": [
    "from pyspark.ml.feature import OneHotEncoderEstimator\n",
    "\n",
    "ohe_cols = [f'{c}_vec' for c in encoded_cols]\n",
    "encoder = OneHotEncoderEstimator(inputCols=encoded_cols, outputCols=ohe_cols)\n",
    "ohem = encoder.fit(df)\n",
    "df = ohem.transform(df)\n",
    "df.show()\n",
    "feature_cols = num_cols + ohe_cols"
   ]
  },
  {
   "cell_type": "code",
   "execution_count": 289,
   "metadata": {},
   "outputs": [
    {
     "name": "stdout",
     "output_type": "stream",
     "text": [
      "+--------------------+\n",
      "|            features|\n",
      "+--------------------+\n",
      "|[18.0,18.0,2021.0...|\n",
      "|[17.09,17.09,2021...|\n",
      "|[17.33,17.33,2021...|\n",
      "|[17.08,17.08,2021...|\n",
      "|[16.61,16.61,2021...|\n",
      "|[17.97,17.97,2021...|\n",
      "|[18.0,18.0,2021.0...|\n",
      "|[18.06,18.06,2021...|\n",
      "|[16.92,16.92,2021...|\n",
      "|[17.19,17.19,2021...|\n",
      "|[17.26,17.26,2021...|\n",
      "|[17.11,17.11,2021...|\n",
      "|[16.86,16.86,2021...|\n",
      "|[18.0,18.0,2021.0...|\n",
      "|[16.53,16.53,2021...|\n",
      "|[17.26,17.26,2021...|\n",
      "|[18.57,18.57,2021...|\n",
      "|[19.35,19.35,2021...|\n",
      "|[20.38,20.38,2021...|\n",
      "|[20.71,20.71,2021...|\n",
      "+--------------------+\n",
      "only showing top 20 rows\n",
      "\n"
     ]
    }
   ],
   "source": [
    "from pyspark.ml.feature import VectorAssembler\n",
    "\n",
    "assembler = VectorAssembler(inputCols=feature_cols, outputCol='features')\n",
    "df = assembler.transform(df)\n",
    "df.select('features').show()"
   ]
  },
  {
   "cell_type": "code",
   "execution_count": 290,
   "metadata": {},
   "outputs": [
    {
     "name": "stdout",
     "output_type": "stream",
     "text": [
      "+------------+--------+--------+----+-----+---+----+----------------+----------------+--------------------+-----+\n",
      "|province_num|temp_max|temp_min|year|month|day|hour|weather_main_vec|weather_desc_vec|            features|train|\n",
      "+------------+--------+--------+----+-----+---+----+----------------+----------------+--------------------+-----+\n",
      "|         3.0|    18.0|    18.0|2021|   11| 28|  20|   (4,[2],[1.0])|   (9,[6],[1.0])|[18.0,18.0,2021.0...| true|\n",
      "+------------+--------+--------+----+-----+---+----+----------------+----------------+--------------------+-----+\n",
      "only showing top 1 row\n",
      "\n"
     ]
    }
   ],
   "source": [
    "from pyspark.sql.functions import rand, when\n",
    "df = df.withColumn('train', when(rand(seed=1234) > 0.3, True).otherwise(False))\n",
    "\n",
    "df.show(1)"
   ]
  },
  {
   "cell_type": "code",
   "execution_count": 291,
   "metadata": {},
   "outputs": [
    {
     "name": "stdout",
     "output_type": "stream",
     "text": [
      "+------------+--------------------+\n",
      "|province_num|            features|\n",
      "+------------+--------------------+\n",
      "|         3.0|[18.0,18.0,2021.0...|\n",
      "|         3.0|[17.09,17.09,2021...|\n",
      "|         3.0|[17.33,17.33,2021...|\n",
      "|         3.0|[17.08,17.08,2021...|\n",
      "|         3.0|[16.61,16.61,2021...|\n",
      "|         3.0|[17.97,17.97,2021...|\n",
      "|         3.0|[18.06,18.06,2021...|\n",
      "|         3.0|[16.92,16.92,2021...|\n",
      "|         3.0|[17.19,17.19,2021...|\n",
      "|         3.0|[17.26,17.26,2021...|\n",
      "|         3.0|[16.86,16.86,2021...|\n",
      "|         3.0|[18.0,18.0,2021.0...|\n",
      "|         3.0|[19.35,19.35,2021...|\n",
      "|         3.0|[21.08,21.08,2021...|\n",
      "|         3.0|[25.72,23.92,2021...|\n",
      "|         3.0|[25.7,24.47,2021....|\n",
      "|         3.0|[25.72,24.54,2021...|\n",
      "|         3.0|[25.03,23.44,2021...|\n",
      "|         3.0|[23.46,22.33,2021...|\n",
      "|         3.0|[20.7,17.95,2021....|\n",
      "+------------+--------------------+\n",
      "only showing top 20 rows\n",
      "\n"
     ]
    }
   ],
   "source": [
    "train_data = df.filter(df.train == True).select('province_num', 'features')\n",
    "test_data = df.filter(df.train == False).select('province_num', 'features')\n",
    "train_data.show()"
   ]
  },
  {
   "cell_type": "markdown",
   "metadata": {},
   "source": [
    "## Fitteo de regresión logistica"
   ]
  },
  {
   "cell_type": "code",
   "execution_count": 292,
   "metadata": {},
   "outputs": [],
   "source": [
    "from pyspark.ml.classification import LogisticRegression\n",
    "\n",
    "lr = LogisticRegression(labelCol='province_num', featuresCol='features')\n",
    "lrm = lr.fit(train_data)"
   ]
  },
  {
   "cell_type": "code",
   "execution_count": 293,
   "metadata": {},
   "outputs": [
    {
     "data": {
      "text/plain": [
       "0.6289198606271778"
      ]
     },
     "execution_count": 293,
     "metadata": {},
     "output_type": "execute_result"
    }
   ],
   "source": [
    "lrm.summary.accuracy"
   ]
  },
  {
   "cell_type": "code",
   "execution_count": 294,
   "metadata": {},
   "outputs": [
    {
     "name": "stdout",
     "output_type": "stream",
     "text": [
      "+------------+--------------------+--------------------+--------------------+----------+\n",
      "|province_num|            features|       rawPrediction|         probability|prediction|\n",
      "+------------+--------------------+--------------------+--------------------+----------+\n",
      "|         3.0|[18.0,18.0,2021.0...|[17.8219116018686...|[0.35056948802910...|       0.0|\n",
      "|         3.0|[17.11,17.11,2021...|[12.6923737585886...|[0.42433521060570...|       0.0|\n",
      "|         3.0|[16.53,16.53,2021...|[9.44420083723260...|[0.45657548236978...|       0.0|\n",
      "|         3.0|[17.26,17.26,2021...|[11.7828323027581...|[0.47092963885941...|       0.0|\n",
      "|         3.0|[18.57,18.57,2021...|[16.2706186579591...|[0.48464883414123...|       0.0|\n",
      "|         3.0|[20.38,20.38,2021...|[22.2447854017454...|[0.50391565682129...|       0.0|\n",
      "|         3.0|[20.71,20.71,2021...|[23.1012410812879...|[0.51571729372373...|       0.0|\n",
      "|         3.0|[24.04,24.04,2021...|[34.7076758118099...|[0.50310737409698...|       0.0|\n",
      "|         3.0|[26.83,24.47,2021...|[33.3972787808408...|[3.13658107047958...|       4.0|\n",
      "|         3.0|[22.32,20.59,2021...|[26.7562660522647...|[8.30274427200901...|       2.0|\n",
      "|         3.0|[21.8,19.55,2021....|[22.1386199427836...|[1.58459143892284...|       2.0|\n",
      "|         3.0|[16.8,13.44,2021....|[-3.5484804658055...|[5.02336207431189...|       3.0|\n",
      "|         3.0|[21.27,17.92,2021...|[11.2278387277762...|[7.29129506212227...|       3.0|\n",
      "|         3.0|[23.92,21.25,2021...|[23.3542769409548...|[8.13998444597900...|       4.0|\n",
      "|         3.0|[24.6,21.84,2021....|[25.1053228910346...|[6.14497164733052...|       4.0|\n",
      "|         3.0|[27.37,24.61,2021...|[33.5376934894997...|[7.24373117352571...|       4.0|\n",
      "|         3.0|[26.7,24.58,2021....|[33.5496060041578...|[7.33696058378729...|       4.0|\n",
      "|         3.0|[22.32,21.14,2021...|[20.7890439005888...|[0.02402718150192...|       3.0|\n",
      "|         3.0|[20.72,18.92,2021...|[18.0587571328836...|[0.00492799951855...|       2.0|\n",
      "|         3.0|[20.14,17.81,2021...|[13.1740831508164...|[8.88157874816059...|       2.0|\n",
      "+------------+--------------------+--------------------+--------------------+----------+\n",
      "only showing top 20 rows\n",
      "\n"
     ]
    }
   ],
   "source": [
    "pred_df = lrm.transform(test_data)\n",
    "pred_df.show()"
   ]
  },
  {
   "cell_type": "code",
   "execution_count": 295,
   "metadata": {},
   "outputs": [
    {
     "data": {
      "text/plain": [
       "0.6021017699115044"
      ]
     },
     "execution_count": 295,
     "metadata": {},
     "output_type": "execute_result"
    }
   ],
   "source": [
    "from pyspark.ml.evaluation import BinaryClassificationEvaluator\n",
    "\n",
    "evaluator = BinaryClassificationEvaluator(labelCol='province_num')\n",
    "evaluator.evaluate(pred_df)"
   ]
  },
  {
   "cell_type": "markdown",
   "metadata": {},
   "source": [
    "## Fitteo de árboles de decisión"
   ]
  },
  {
   "cell_type": "code",
   "execution_count": 296,
   "metadata": {},
   "outputs": [],
   "source": [
    "from pyspark.ml.classification import DecisionTreeClassifier\n",
    "\n",
    "dt = DecisionTreeClassifier(labelCol='province_num', featuresCol='features')\n",
    "dtm = dt.fit(train_data)"
   ]
  },
  {
   "cell_type": "code",
   "execution_count": 297,
   "metadata": {},
   "outputs": [
    {
     "name": "stdout",
     "output_type": "stream",
     "text": [
      "+------------+--------------------+--------------------+--------------------+----------+\n",
      "|province_num|            features|       rawPrediction|         probability|prediction|\n",
      "+------------+--------------------+--------------------+--------------------+----------+\n",
      "|         3.0|[18.0,18.0,2021.0...|[10.0,0.0,18.0,50...|[0.09345794392523...|       3.0|\n",
      "|         3.0|[17.11,17.11,2021...|[10.0,0.0,18.0,50...|[0.09345794392523...|       3.0|\n",
      "|         3.0|[16.53,16.53,2021...|[19.0,3.0,3.0,6.0...|[0.52777777777777...|       0.0|\n",
      "|         3.0|[17.26,17.26,2021...|[10.0,0.0,18.0,50...|[0.09345794392523...|       3.0|\n",
      "|         3.0|[18.57,18.57,2021...|[63.0,0.0,61.0,49...|[0.29166666666666...|       0.0|\n",
      "|         3.0|[20.38,20.38,2021...|[63.0,0.0,61.0,49...|[0.29166666666666...|       0.0|\n",
      "|         3.0|[20.71,20.71,2021...|[63.0,0.0,61.0,49...|[0.29166666666666...|       0.0|\n",
      "|         3.0|[24.04,24.04,2021...|[63.0,0.0,61.0,49...|[0.29166666666666...|       0.0|\n",
      "|         3.0|[26.83,24.47,2021...|[63.0,0.0,61.0,49...|[0.29166666666666...|       0.0|\n",
      "|         3.0|[22.32,20.59,2021...|[63.0,0.0,61.0,49...|[0.29166666666666...|       0.0|\n",
      "|         3.0|[21.8,19.55,2021....|[63.0,0.0,61.0,49...|[0.29166666666666...|       0.0|\n",
      "|         3.0|[16.8,13.44,2021....|[19.0,3.0,3.0,6.0...|[0.52777777777777...|       0.0|\n",
      "|         3.0|[21.27,17.92,2021...|[10.0,0.0,18.0,50...|[0.09345794392523...|       3.0|\n",
      "|         3.0|[23.92,21.25,2021...|[63.0,0.0,61.0,49...|[0.29166666666666...|       0.0|\n",
      "|         3.0|[24.6,21.84,2021....|[63.0,0.0,61.0,49...|[0.29166666666666...|       0.0|\n",
      "|         3.0|[27.37,24.61,2021...|[63.0,0.0,61.0,49...|[0.29166666666666...|       0.0|\n",
      "|         3.0|[26.7,24.58,2021....|[63.0,0.0,61.0,49...|[0.29166666666666...|       0.0|\n",
      "|         3.0|[22.32,21.14,2021...|[63.0,0.0,61.0,49...|[0.29166666666666...|       0.0|\n",
      "|         3.0|[20.72,18.92,2021...|[63.0,0.0,61.0,49...|[0.29166666666666...|       0.0|\n",
      "|         3.0|[20.14,17.81,2021...|[10.0,0.0,18.0,50...|[0.09345794392523...|       3.0|\n",
      "+------------+--------------------+--------------------+--------------------+----------+\n",
      "only showing top 20 rows\n",
      "\n"
     ]
    }
   ],
   "source": [
    "pred_df = dtm.transform(test_data)\n",
    "pred_df.show()"
   ]
  },
  {
   "cell_type": "code",
   "execution_count": 298,
   "metadata": {},
   "outputs": [
    {
     "data": {
      "text/plain": [
       "0.5898230088495575"
      ]
     },
     "execution_count": 298,
     "metadata": {},
     "output_type": "execute_result"
    }
   ],
   "source": [
    "evaluator.evaluate(pred_df)"
   ]
  },
  {
   "cell_type": "code",
   "execution_count": 299,
   "metadata": {},
   "outputs": [
    {
     "data": {
      "text/html": [
       "<div>\n",
       "<style scoped>\n",
       "    .dataframe tbody tr th:only-of-type {\n",
       "        vertical-align: middle;\n",
       "    }\n",
       "\n",
       "    .dataframe tbody tr th {\n",
       "        vertical-align: top;\n",
       "    }\n",
       "\n",
       "    .dataframe thead th {\n",
       "        text-align: right;\n",
       "    }\n",
       "</style>\n",
       "<table border=\"1\" class=\"dataframe\">\n",
       "  <thead>\n",
       "    <tr style=\"text-align: right;\">\n",
       "      <th></th>\n",
       "      <th>feature</th>\n",
       "      <th>importance</th>\n",
       "    </tr>\n",
       "  </thead>\n",
       "  <tbody>\n",
       "    <tr>\n",
       "      <th>0</th>\n",
       "      <td>temp_max</td>\n",
       "      <td>0.773733</td>\n",
       "    </tr>\n",
       "    <tr>\n",
       "      <th>1</th>\n",
       "      <td>temp_min</td>\n",
       "      <td>0.182578</td>\n",
       "    </tr>\n",
       "    <tr>\n",
       "      <th>2</th>\n",
       "      <td>day</td>\n",
       "      <td>0.026239</td>\n",
       "    </tr>\n",
       "    <tr>\n",
       "      <th>3</th>\n",
       "      <td>hour</td>\n",
       "      <td>0.017450</td>\n",
       "    </tr>\n",
       "  </tbody>\n",
       "</table>\n",
       "</div>"
      ],
      "text/plain": [
       "    feature  importance\n",
       "0  temp_max    0.773733\n",
       "1  temp_min    0.182578\n",
       "2       day    0.026239\n",
       "3      hour    0.017450"
      ]
     },
     "execution_count": 299,
     "metadata": {},
     "output_type": "execute_result"
    }
   ],
   "source": [
    "from itertools import chain\n",
    "import pandas as pd\n",
    "attrs = sorted(\n",
    "    (attr['idx'], attr['name'])\n",
    "    for attr in (\n",
    "        chain(*pred_df.schema['features'].metadata['ml_attr']['attrs'].values())\n",
    "    )\n",
    ")\n",
    "feat_import = [(name, dtm.featureImportances[idx]) for idx, name in attrs if dtm.featureImportances[idx]]\n",
    "feat_import = pd.DataFrame(feat_import, columns=['feature', 'importance']).sort_values(by='importance', ascending=False)\n",
    "feat_import.head(15)"
   ]
  },
  {
   "cell_type": "code",
   "execution_count": 300,
   "metadata": {},
   "outputs": [
    {
     "data": {
      "text/plain": [
       "[Text(0, 0, 'temp_max'),\n",
       " Text(1, 0, 'temp_min'),\n",
       " Text(2, 0, 'day'),\n",
       " Text(3, 0, 'hour')]"
      ]
     },
     "execution_count": 300,
     "metadata": {},
     "output_type": "execute_result"
    },
    {
     "data": {
      "image/png": "[encoded data removed]",
      "text/plain": [
       "<Figure size 432x288 with 1 Axes>"
      ]
     },
     "metadata": {
      "needs_background": "light"
     },
     "output_type": "display_data"
    }
   ],
   "source": [
    "ax = feat_import[:20].plot(kind='bar')\n",
    "ax.set_xticklabels(feat_import[:20]['feature'].tolist())"
   ]
  },
  {
   "cell_type": "code",
   "execution_count": 301,
   "metadata": {},
   "outputs": [],
   "source": [
    "spark.stop()"
   ]
  }
 ],
 "metadata": {
  "kernelspec": {
   "display_name": "Python 3 (ipykernel)",
   "language": "python",
   "name": "python3"
  },
  "language_info": {
   "codemirror_mode": {
    "name": "ipython",
    "version": 3
   },
   "file_extension": ".py",
   "mimetype": "text/x-python",
   "name": "python",
   "nbconvert_exporter": "python",
   "pygments_lexer": "ipython3",
   "version": "3.7.3"
  }
 },
 "nbformat": 4,
 "nbformat_minor": 2
}
